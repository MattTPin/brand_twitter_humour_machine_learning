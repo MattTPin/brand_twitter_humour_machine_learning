{
 "cells": [
  {
   "cell_type": "code",
   "execution_count": 1,
   "metadata": {},
   "outputs": [],
   "source": [
    "import pandas as pd\n",
    "import numpy as np\n",
    "\n",
    "from sklearn.compose import ColumnTransformer, make_column_transformer\n",
    "from sklearn.model_selection import (\n",
    "    GridSearchCV,\n",
    "    RandomizedSearchCV,\n",
    "    cross_val_score,\n",
    "    cross_validate,\n",
    "    train_test_split,\n",
    ")\n",
    "\n",
    "import matplotlib.pyplot as plt\n",
    "import seaborn as sns\n",
    "\n",
    "from sklearn.preprocessing import OneHotEncoder, OrdinalEncoder, StandardScaler\n",
    "from sklearn.dummy import DummyClassifier\n",
    "from sklearn.ensemble import RandomForestClassifier\n",
    "from sklearn.feature_extraction.text import CountVectorizer\n",
    "from sklearn.impute import SimpleImputer\n",
    "from sklearn.pipeline import Pipeline, make_pipeline\n",
    "from sklearn.tree import DecisionTreeClassifier, export_graphviz\n",
    "from sklearn.linear_model import LogisticRegression\n",
    "\n",
    "from catboost import CatBoostClassifier\n",
    "from lightgbm.sklearn import LGBMClassifier\n",
    "from sklearn.ensemble import RandomForestClassifier\n",
    "from xgboost import XGBClassifier"
   ]
  },
  {
   "cell_type": "code",
   "execution_count": 2,
   "metadata": {},
   "outputs": [],
   "source": [
    "import nltk\n",
    "nltk.download('vader_lexicon', quiet=True)\n",
    "from nltk.sentiment.vader import SentimentIntensityAnalyzer"
   ]
  },
  {
   "cell_type": "markdown",
   "metadata": {},
   "source": [
    "# Initial dataset import and processing"
   ]
  },
  {
   "cell_type": "code",
   "execution_count": 3,
   "metadata": {},
   "outputs": [],
   "source": [
    "pd.options.display.max_colwidth = 500\n",
    "pd.options.display.max_columns = 30"
   ]
  },
  {
   "cell_type": "code",
   "execution_count": 4,
   "metadata": {},
   "outputs": [],
   "source": [
    "brand_df = pd.read_csv('twitter_data_processed.csv')\n",
    "brand_df = brand_df.reset_index(drop = True)"
   ]
  },
  {
   "cell_type": "code",
   "execution_count": 5,
   "metadata": {},
   "outputs": [
    {
     "data": {
      "text/plain": [
       "(2308, 31)"
      ]
     },
     "execution_count": 5,
     "metadata": {},
     "output_type": "execute_result"
    }
   ],
   "source": [
    "brand_df.shape"
   ]
  },
  {
   "cell_type": "code",
   "execution_count": 6,
   "metadata": {},
   "outputs": [
    {
     "data": {
      "text/html": [
       "<div>\n",
       "<style scoped>\n",
       "    .dataframe tbody tr th:only-of-type {\n",
       "        vertical-align: middle;\n",
       "    }\n",
       "\n",
       "    .dataframe tbody tr th {\n",
       "        vertical-align: top;\n",
       "    }\n",
       "\n",
       "    .dataframe thead th {\n",
       "        text-align: right;\n",
       "    }\n",
       "</style>\n",
       "<table border=\"1\" class=\"dataframe\">\n",
       "  <thead>\n",
       "    <tr style=\"text-align: right;\">\n",
       "      <th></th>\n",
       "      <th>handle</th>\n",
       "      <th>twitter_name</th>\n",
       "      <th>is_other_user_rt</th>\n",
       "      <th>is_reply</th>\n",
       "      <th>text</th>\n",
       "      <th>num_hearts</th>\n",
       "      <th>num_retweets</th>\n",
       "      <th>tweet_length</th>\n",
       "      <th>time_tweeted</th>\n",
       "      <th>tweet_age_days</th>\n",
       "      <th>hashtags</th>\n",
       "      <th>num_hashtags</th>\n",
       "      <th>num_mentions</th>\n",
       "      <th>retweeted_by_user</th>\n",
       "      <th>emojis</th>\n",
       "      <th>...</th>\n",
       "      <th>media</th>\n",
       "      <th>media_url</th>\n",
       "      <th>media_link</th>\n",
       "      <th>tweet_text_only</th>\n",
       "      <th>grammar_errors_per_word</th>\n",
       "      <th>num_words</th>\n",
       "      <th>entities</th>\n",
       "      <th>reply_to_user_id</th>\n",
       "      <th>tweet_id</th>\n",
       "      <th>source</th>\n",
       "      <th>handle_avg_hearts</th>\n",
       "      <th>handle_avg_rts</th>\n",
       "      <th>prptn_rts_vs_acc_avg</th>\n",
       "      <th>prptn_hrts_vs_acc_avg</th>\n",
       "      <th>joke_or_meme</th>\n",
       "    </tr>\n",
       "  </thead>\n",
       "  <tbody>\n",
       "    <tr>\n",
       "      <th>0</th>\n",
       "      <td>HomeDepot</td>\n",
       "      <td>The Home Depot</td>\n",
       "      <td>False</td>\n",
       "      <td>False</td>\n",
       "      <td>Spoil the coffee lover in your life with the gift of a better brew. Shop coffee makers and cappuccino machines today. https://t.co/JIhbKm73j9 https://t.co/salrrrN0fs</td>\n",
       "      <td>20</td>\n",
       "      <td>3</td>\n",
       "      <td>165</td>\n",
       "      <td>2020-11-22 15:00:01</td>\n",
       "      <td>31</td>\n",
       "      <td>NaN</td>\n",
       "      <td>0</td>\n",
       "      <td>0</td>\n",
       "      <td>False</td>\n",
       "      <td>NaN</td>\n",
       "      <td>...</td>\n",
       "      <td>photo</td>\n",
       "      <td>https://pbs.twimg.com/media/Enb6wj1WEAsj---.jpg</td>\n",
       "      <td>https://t.co/salrrrN0fs</td>\n",
       "      <td>Spoil the coffee lover in your life with the gift of a better brew. Shop coffee makers and cappuccino machines today.</td>\n",
       "      <td>0.000000</td>\n",
       "      <td>21</td>\n",
       "      <td>{'hashtags': [], 'symbols': [], 'user_mentions': [], 'urls': [{'url': 'https://t.co/JIhbKm73j9', 'expanded_url': 'https://thd.co/3fmDeig', 'display_url': 'thd.co/3fmDeig', 'indices': [118, 141]}], 'media': [{'id': 1330526452094210059, 'id_str': '1330526452094210059', 'indices': [142, 165], 'media_url': 'http://pbs.twimg.com/media/Enb6wj1WEAsj---.jpg', 'media_url_https': 'https://pbs.twimg.com/media/Enb6wj1WEAsj---.jpg', 'url': 'https://t.co/salrrrN0fs', 'display_url': 'pic.twitter.com/salrrr...</td>\n",
       "      <td>NaN</td>\n",
       "      <td>1.330530e+18</td>\n",
       "      <td>Sprinklr Publishing</td>\n",
       "      <td>43.732283</td>\n",
       "      <td>10.440945</td>\n",
       "      <td>0.287330</td>\n",
       "      <td>0.457328</td>\n",
       "      <td>0.0</td>\n",
       "    </tr>\n",
       "    <tr>\n",
       "      <th>1</th>\n",
       "      <td>WestJet</td>\n",
       "      <td>WestJet</td>\n",
       "      <td>False</td>\n",
       "      <td>False</td>\n",
       "      <td>As we continue to put your #SafetyAboveAll, we've adjusted our service on certain flights. To discover what service offerings will be available on your upcoming flight, visit https://t.co/SQdQK2XwWX https://t.co/1xvZDsjA3b</td>\n",
       "      <td>29</td>\n",
       "      <td>10</td>\n",
       "      <td>222</td>\n",
       "      <td>2020-11-18 14:04:01</td>\n",
       "      <td>35</td>\n",
       "      <td>SafetyAboveAll</td>\n",
       "      <td>1</td>\n",
       "      <td>0</td>\n",
       "      <td>False</td>\n",
       "      <td>NaN</td>\n",
       "      <td>...</td>\n",
       "      <td>photo</td>\n",
       "      <td>https://pbs.twimg.com/media/EnHHlUQW8AMo7xl.jpg</td>\n",
       "      <td>https://t.co/1xvZDsjA3b</td>\n",
       "      <td>As we continue to put your , we've adjusted our service on certain flights. To discover what service offerings will be available on your upcoming flight, visit</td>\n",
       "      <td>0.074074</td>\n",
       "      <td>27</td>\n",
       "      <td>{'hashtags': [{'text': 'SafetyAboveAll', 'indices': [27, 42]}], 'symbols': [], 'user_mentions': [], 'urls': [{'url': 'https://t.co/SQdQK2XwWX', 'expanded_url': 'https://ms.spr.ly/6016pG1TM', 'display_url': 'ms.spr.ly/6016pG1TM', 'indices': [175, 198]}], 'media': [{'id': 1329062808957415427, 'id_str': '1329062808957415427', 'indices': [199, 222], 'media_url': 'http://pbs.twimg.com/media/EnHHlUQW8AMo7xl.jpg', 'media_url_https': 'https://pbs.twimg.com/media/EnHHlUQW8AMo7xl.jpg', 'url': 'https:/...</td>\n",
       "      <td>NaN</td>\n",
       "      <td>1.329060e+18</td>\n",
       "      <td>Sprinklr Publishing</td>\n",
       "      <td>83.434426</td>\n",
       "      <td>17.500000</td>\n",
       "      <td>0.571429</td>\n",
       "      <td>0.347578</td>\n",
       "      <td>0.0</td>\n",
       "    </tr>\n",
       "  </tbody>\n",
       "</table>\n",
       "<p>2 rows × 31 columns</p>\n",
       "</div>"
      ],
      "text/plain": [
       "      handle    twitter_name  is_other_user_rt  is_reply  \\\n",
       "0  HomeDepot  The Home Depot             False     False   \n",
       "1    WestJet         WestJet             False     False   \n",
       "\n",
       "                                                                                                                                                                                                                             text  \\\n",
       "0                                                           Spoil the coffee lover in your life with the gift of a better brew. Shop coffee makers and cappuccino machines today. https://t.co/JIhbKm73j9 https://t.co/salrrrN0fs   \n",
       "1  As we continue to put your #SafetyAboveAll, we've adjusted our service on certain flights. To discover what service offerings will be available on your upcoming flight, visit https://t.co/SQdQK2XwWX https://t.co/1xvZDsjA3b   \n",
       "\n",
       "   num_hearts  num_retweets  tweet_length         time_tweeted  \\\n",
       "0          20             3           165  2020-11-22 15:00:01   \n",
       "1          29            10           222  2020-11-18 14:04:01   \n",
       "\n",
       "   tweet_age_days        hashtags  num_hashtags  num_mentions  \\\n",
       "0              31             NaN             0             0   \n",
       "1              35  SafetyAboveAll             1             0   \n",
       "\n",
       "   retweeted_by_user emojis  ...  media  \\\n",
       "0              False    NaN  ...  photo   \n",
       "1              False    NaN  ...  photo   \n",
       "\n",
       "                                         media_url               media_link  \\\n",
       "0  https://pbs.twimg.com/media/Enb6wj1WEAsj---.jpg  https://t.co/salrrrN0fs   \n",
       "1  https://pbs.twimg.com/media/EnHHlUQW8AMo7xl.jpg  https://t.co/1xvZDsjA3b   \n",
       "\n",
       "                                                                                                                                                   tweet_text_only  \\\n",
       "0                                            Spoil the coffee lover in your life with the gift of a better brew. Shop coffee makers and cappuccino machines today.   \n",
       "1  As we continue to put your , we've adjusted our service on certain flights. To discover what service offerings will be available on your upcoming flight, visit   \n",
       "\n",
       "  grammar_errors_per_word  num_words  \\\n",
       "0                0.000000         21   \n",
       "1                0.074074         27   \n",
       "\n",
       "                                                                                                                                                                                                                                                                                                                                                                                                                                                                                                              entities  \\\n",
       "0  {'hashtags': [], 'symbols': [], 'user_mentions': [], 'urls': [{'url': 'https://t.co/JIhbKm73j9', 'expanded_url': 'https://thd.co/3fmDeig', 'display_url': 'thd.co/3fmDeig', 'indices': [118, 141]}], 'media': [{'id': 1330526452094210059, 'id_str': '1330526452094210059', 'indices': [142, 165], 'media_url': 'http://pbs.twimg.com/media/Enb6wj1WEAsj---.jpg', 'media_url_https': 'https://pbs.twimg.com/media/Enb6wj1WEAsj---.jpg', 'url': 'https://t.co/salrrrN0fs', 'display_url': 'pic.twitter.com/salrrr...   \n",
       "1  {'hashtags': [{'text': 'SafetyAboveAll', 'indices': [27, 42]}], 'symbols': [], 'user_mentions': [], 'urls': [{'url': 'https://t.co/SQdQK2XwWX', 'expanded_url': 'https://ms.spr.ly/6016pG1TM', 'display_url': 'ms.spr.ly/6016pG1TM', 'indices': [175, 198]}], 'media': [{'id': 1329062808957415427, 'id_str': '1329062808957415427', 'indices': [199, 222], 'media_url': 'http://pbs.twimg.com/media/EnHHlUQW8AMo7xl.jpg', 'media_url_https': 'https://pbs.twimg.com/media/EnHHlUQW8AMo7xl.jpg', 'url': 'https:/...   \n",
       "\n",
       "  reply_to_user_id      tweet_id               source handle_avg_hearts  \\\n",
       "0              NaN  1.330530e+18  Sprinklr Publishing         43.732283   \n",
       "1              NaN  1.329060e+18  Sprinklr Publishing         83.434426   \n",
       "\n",
       "   handle_avg_rts  prptn_rts_vs_acc_avg  prptn_hrts_vs_acc_avg  joke_or_meme  \n",
       "0       10.440945              0.287330               0.457328           0.0  \n",
       "1       17.500000              0.571429               0.347578           0.0  \n",
       "\n",
       "[2 rows x 31 columns]"
      ]
     },
     "execution_count": 6,
     "metadata": {},
     "output_type": "execute_result"
    }
   ],
   "source": [
    "brand_df.head(2)"
   ]
  },
  {
   "cell_type": "code",
   "execution_count": 7,
   "metadata": {},
   "outputs": [],
   "source": [
    "brand_df['tweet_text_only'] = brand_df['tweet_text_only'].str.replace('&amp;','&')\n",
    "brand_df = brand_df.loc[brand_df['num_hearts'] != 0]\n",
    "brand_df = brand_df.drop(columns=['handle_avg_hearts', 'handle_avg_rts', 'prptn_rts_vs_acc_avg', 'prptn_hrts_vs_acc_avg'])\n",
    "\n",
    "avg_likes = brand_df.groupby('handle', as_index=False)['num_hearts'].mean()\n",
    "avg_likes.columns = ['handle', 'handle_avg_hearts']\n",
    "avg_retweets = brand_df.groupby('handle', as_index=False)['num_retweets'].mean()\n",
    "avg_retweets.columns = ['handle', 'handle_avg_rts']\n",
    "brand_df = brand_df.merge(avg_likes, on='handle', how='left')\n",
    "brand_df = brand_df.merge(avg_retweets, on='handle', how='left')\n",
    "brand_df['prptn_rts_vs_acc_avg'] = brand_df['num_retweets']/brand_df['handle_avg_rts']\n",
    "brand_df['prptn_hrts_vs_acc_avg'] = brand_df['num_hearts']/brand_df['handle_avg_hearts']"
   ]
  },
  {
   "cell_type": "code",
   "execution_count": 8,
   "metadata": {},
   "outputs": [],
   "source": [
    "mod = SentimentIntensityAnalyzer()\n",
    "for i in range(len(brand_df)-1):\n",
    "    brand_df.at[i, 'sentiment_polarity'] = mod.polarity_scores(str(brand_df['tweet_text_only'][i]))['compound']"
   ]
  },
  {
   "cell_type": "code",
   "execution_count": 9,
   "metadata": {},
   "outputs": [
    {
     "data": {
      "text/plain": [
       "(1993, 32)"
      ]
     },
     "execution_count": 9,
     "metadata": {},
     "output_type": "execute_result"
    }
   ],
   "source": [
    "brand_df.shape"
   ]
  },
  {
   "cell_type": "code",
   "execution_count": 10,
   "metadata": {},
   "outputs": [],
   "source": [
    "brand_df_classified = brand_df[brand_df['joke_or_meme'].notna()]"
   ]
  },
  {
   "cell_type": "code",
   "execution_count": 11,
   "metadata": {},
   "outputs": [
    {
     "data": {
      "text/plain": [
       "(469, 32)"
      ]
     },
     "execution_count": 11,
     "metadata": {},
     "output_type": "execute_result"
    }
   ],
   "source": [
    "brand_df_classified.shape"
   ]
  },
  {
   "cell_type": "code",
   "execution_count": 12,
   "metadata": {},
   "outputs": [
    {
     "data": {
      "text/html": [
       "<div>\n",
       "<style scoped>\n",
       "    .dataframe tbody tr th:only-of-type {\n",
       "        vertical-align: middle;\n",
       "    }\n",
       "\n",
       "    .dataframe tbody tr th {\n",
       "        vertical-align: top;\n",
       "    }\n",
       "\n",
       "    .dataframe thead th {\n",
       "        text-align: right;\n",
       "    }\n",
       "</style>\n",
       "<table border=\"1\" class=\"dataframe\">\n",
       "  <thead>\n",
       "    <tr style=\"text-align: right;\">\n",
       "      <th></th>\n",
       "      <th>handle</th>\n",
       "      <th>twitter_name</th>\n",
       "      <th>is_other_user_rt</th>\n",
       "      <th>is_reply</th>\n",
       "      <th>text</th>\n",
       "      <th>num_hearts</th>\n",
       "      <th>num_retweets</th>\n",
       "      <th>tweet_length</th>\n",
       "      <th>time_tweeted</th>\n",
       "      <th>tweet_age_days</th>\n",
       "      <th>hashtags</th>\n",
       "      <th>num_hashtags</th>\n",
       "      <th>num_mentions</th>\n",
       "      <th>retweeted_by_user</th>\n",
       "      <th>emojis</th>\n",
       "      <th>...</th>\n",
       "      <th>media_url</th>\n",
       "      <th>media_link</th>\n",
       "      <th>tweet_text_only</th>\n",
       "      <th>grammar_errors_per_word</th>\n",
       "      <th>num_words</th>\n",
       "      <th>entities</th>\n",
       "      <th>reply_to_user_id</th>\n",
       "      <th>tweet_id</th>\n",
       "      <th>source</th>\n",
       "      <th>joke_or_meme</th>\n",
       "      <th>handle_avg_hearts</th>\n",
       "      <th>handle_avg_rts</th>\n",
       "      <th>prptn_rts_vs_acc_avg</th>\n",
       "      <th>prptn_hrts_vs_acc_avg</th>\n",
       "      <th>sentiment_polarity</th>\n",
       "    </tr>\n",
       "  </thead>\n",
       "  <tbody>\n",
       "    <tr>\n",
       "      <th>0</th>\n",
       "      <td>HomeDepot</td>\n",
       "      <td>The Home Depot</td>\n",
       "      <td>False</td>\n",
       "      <td>False</td>\n",
       "      <td>Spoil the coffee lover in your life with the gift of a better brew. Shop coffee makers and cappuccino machines today. https://t.co/JIhbKm73j9 https://t.co/salrrrN0fs</td>\n",
       "      <td>20</td>\n",
       "      <td>3</td>\n",
       "      <td>165</td>\n",
       "      <td>2020-11-22 15:00:01</td>\n",
       "      <td>31</td>\n",
       "      <td>NaN</td>\n",
       "      <td>0</td>\n",
       "      <td>0</td>\n",
       "      <td>False</td>\n",
       "      <td>NaN</td>\n",
       "      <td>...</td>\n",
       "      <td>https://pbs.twimg.com/media/Enb6wj1WEAsj---.jpg</td>\n",
       "      <td>https://t.co/salrrrN0fs</td>\n",
       "      <td>Spoil the coffee lover in your life with the gift of a better brew. Shop coffee makers and cappuccino machines today.</td>\n",
       "      <td>0.000000</td>\n",
       "      <td>21</td>\n",
       "      <td>{'hashtags': [], 'symbols': [], 'user_mentions': [], 'urls': [{'url': 'https://t.co/JIhbKm73j9', 'expanded_url': 'https://thd.co/3fmDeig', 'display_url': 'thd.co/3fmDeig', 'indices': [118, 141]}], 'media': [{'id': 1330526452094210059, 'id_str': '1330526452094210059', 'indices': [142, 165], 'media_url': 'http://pbs.twimg.com/media/Enb6wj1WEAsj---.jpg', 'media_url_https': 'https://pbs.twimg.com/media/Enb6wj1WEAsj---.jpg', 'url': 'https://t.co/salrrrN0fs', 'display_url': 'pic.twitter.com/salrrr...</td>\n",
       "      <td>NaN</td>\n",
       "      <td>1.330530e+18</td>\n",
       "      <td>Sprinklr Publishing</td>\n",
       "      <td>0.0</td>\n",
       "      <td>48.518987</td>\n",
       "      <td>10.518987</td>\n",
       "      <td>0.285199</td>\n",
       "      <td>0.412210</td>\n",
       "      <td>0.8625</td>\n",
       "    </tr>\n",
       "    <tr>\n",
       "      <th>1</th>\n",
       "      <td>WestJet</td>\n",
       "      <td>WestJet</td>\n",
       "      <td>False</td>\n",
       "      <td>False</td>\n",
       "      <td>As we continue to put your #SafetyAboveAll, we've adjusted our service on certain flights. To discover what service offerings will be available on your upcoming flight, visit https://t.co/SQdQK2XwWX https://t.co/1xvZDsjA3b</td>\n",
       "      <td>29</td>\n",
       "      <td>10</td>\n",
       "      <td>222</td>\n",
       "      <td>2020-11-18 14:04:01</td>\n",
       "      <td>35</td>\n",
       "      <td>SafetyAboveAll</td>\n",
       "      <td>1</td>\n",
       "      <td>0</td>\n",
       "      <td>False</td>\n",
       "      <td>NaN</td>\n",
       "      <td>...</td>\n",
       "      <td>https://pbs.twimg.com/media/EnHHlUQW8AMo7xl.jpg</td>\n",
       "      <td>https://t.co/1xvZDsjA3b</td>\n",
       "      <td>As we continue to put your , we've adjusted our service on certain flights. To discover what service offerings will be available on your upcoming flight, visit</td>\n",
       "      <td>0.074074</td>\n",
       "      <td>27</td>\n",
       "      <td>{'hashtags': [{'text': 'SafetyAboveAll', 'indices': [27, 42]}], 'symbols': [], 'user_mentions': [], 'urls': [{'url': 'https://t.co/SQdQK2XwWX', 'expanded_url': 'https://ms.spr.ly/6016pG1TM', 'display_url': 'ms.spr.ly/6016pG1TM', 'indices': [175, 198]}], 'media': [{'id': 1329062808957415427, 'id_str': '1329062808957415427', 'indices': [199, 222], 'media_url': 'http://pbs.twimg.com/media/EnHHlUQW8AMo7xl.jpg', 'media_url_https': 'https://pbs.twimg.com/media/EnHHlUQW8AMo7xl.jpg', 'url': 'https:/...</td>\n",
       "      <td>NaN</td>\n",
       "      <td>1.329060e+18</td>\n",
       "      <td>Sprinklr Publishing</td>\n",
       "      <td>0.0</td>\n",
       "      <td>72.147541</td>\n",
       "      <td>11.524590</td>\n",
       "      <td>0.867710</td>\n",
       "      <td>0.401954</td>\n",
       "      <td>0.2732</td>\n",
       "    </tr>\n",
       "  </tbody>\n",
       "</table>\n",
       "<p>2 rows × 32 columns</p>\n",
       "</div>"
      ],
      "text/plain": [
       "      handle    twitter_name  is_other_user_rt  is_reply  \\\n",
       "0  HomeDepot  The Home Depot             False     False   \n",
       "1    WestJet         WestJet             False     False   \n",
       "\n",
       "                                                                                                                                                                                                                             text  \\\n",
       "0                                                           Spoil the coffee lover in your life with the gift of a better brew. Shop coffee makers and cappuccino machines today. https://t.co/JIhbKm73j9 https://t.co/salrrrN0fs   \n",
       "1  As we continue to put your #SafetyAboveAll, we've adjusted our service on certain flights. To discover what service offerings will be available on your upcoming flight, visit https://t.co/SQdQK2XwWX https://t.co/1xvZDsjA3b   \n",
       "\n",
       "   num_hearts  num_retweets  tweet_length         time_tweeted  \\\n",
       "0          20             3           165  2020-11-22 15:00:01   \n",
       "1          29            10           222  2020-11-18 14:04:01   \n",
       "\n",
       "   tweet_age_days        hashtags  num_hashtags  num_mentions  \\\n",
       "0              31             NaN             0             0   \n",
       "1              35  SafetyAboveAll             1             0   \n",
       "\n",
       "   retweeted_by_user emojis  ...  \\\n",
       "0              False    NaN  ...   \n",
       "1              False    NaN  ...   \n",
       "\n",
       "                                         media_url               media_link  \\\n",
       "0  https://pbs.twimg.com/media/Enb6wj1WEAsj---.jpg  https://t.co/salrrrN0fs   \n",
       "1  https://pbs.twimg.com/media/EnHHlUQW8AMo7xl.jpg  https://t.co/1xvZDsjA3b   \n",
       "\n",
       "                                                                                                                                                   tweet_text_only  \\\n",
       "0                                            Spoil the coffee lover in your life with the gift of a better brew. Shop coffee makers and cappuccino machines today.   \n",
       "1  As we continue to put your , we've adjusted our service on certain flights. To discover what service offerings will be available on your upcoming flight, visit   \n",
       "\n",
       "  grammar_errors_per_word num_words  \\\n",
       "0                0.000000        21   \n",
       "1                0.074074        27   \n",
       "\n",
       "                                                                                                                                                                                                                                                                                                                                                                                                                                                                                                              entities  \\\n",
       "0  {'hashtags': [], 'symbols': [], 'user_mentions': [], 'urls': [{'url': 'https://t.co/JIhbKm73j9', 'expanded_url': 'https://thd.co/3fmDeig', 'display_url': 'thd.co/3fmDeig', 'indices': [118, 141]}], 'media': [{'id': 1330526452094210059, 'id_str': '1330526452094210059', 'indices': [142, 165], 'media_url': 'http://pbs.twimg.com/media/Enb6wj1WEAsj---.jpg', 'media_url_https': 'https://pbs.twimg.com/media/Enb6wj1WEAsj---.jpg', 'url': 'https://t.co/salrrrN0fs', 'display_url': 'pic.twitter.com/salrrr...   \n",
       "1  {'hashtags': [{'text': 'SafetyAboveAll', 'indices': [27, 42]}], 'symbols': [], 'user_mentions': [], 'urls': [{'url': 'https://t.co/SQdQK2XwWX', 'expanded_url': 'https://ms.spr.ly/6016pG1TM', 'display_url': 'ms.spr.ly/6016pG1TM', 'indices': [175, 198]}], 'media': [{'id': 1329062808957415427, 'id_str': '1329062808957415427', 'indices': [199, 222], 'media_url': 'http://pbs.twimg.com/media/EnHHlUQW8AMo7xl.jpg', 'media_url_https': 'https://pbs.twimg.com/media/EnHHlUQW8AMo7xl.jpg', 'url': 'https:/...   \n",
       "\n",
       "   reply_to_user_id      tweet_id               source  joke_or_meme  \\\n",
       "0               NaN  1.330530e+18  Sprinklr Publishing           0.0   \n",
       "1               NaN  1.329060e+18  Sprinklr Publishing           0.0   \n",
       "\n",
       "  handle_avg_hearts  handle_avg_rts  prptn_rts_vs_acc_avg  \\\n",
       "0         48.518987       10.518987              0.285199   \n",
       "1         72.147541       11.524590              0.867710   \n",
       "\n",
       "   prptn_hrts_vs_acc_avg  sentiment_polarity  \n",
       "0               0.412210              0.8625  \n",
       "1               0.401954              0.2732  \n",
       "\n",
       "[2 rows x 32 columns]"
      ]
     },
     "execution_count": 12,
     "metadata": {},
     "output_type": "execute_result"
    }
   ],
   "source": [
    "brand_df_classified.head(2)"
   ]
  },
  {
   "cell_type": "markdown",
   "metadata": {},
   "source": [
    "# Data splitting and category classification"
   ]
  },
  {
   "cell_type": "code",
   "execution_count": 13,
   "metadata": {},
   "outputs": [],
   "source": [
    "brand_df_drops = brand_df_classified.drop(columns = ['twitter_name','text','num_hearts',\n",
    "                                                     'num_retweets', 'time_tweeted',\n",
    "                                                     'tweet_age_days', 'hashtags', 'retweeted_by_user',\n",
    "                                                     'media_url', 'media_link', 'entities', 'reply_to_user_id',\n",
    "                                                     'tweet_id', 'handle_avg_hearts', 'handle_avg_rts',\n",
    "                                                     'num_words', 'is_other_user_rt', 'is_reply', 'handle',\n",
    "                                                     'emojis'])"
   ]
  },
  {
   "cell_type": "code",
   "execution_count": 14,
   "metadata": {},
   "outputs": [],
   "source": [
    "brand_df_drops['joke_or_meme'] = brand_df_drops['joke_or_meme'].astype(bool)\n",
    "brand_df_drops['media'] = brand_df_drops['media'].replace('photo', 'True')\n",
    "brand_df_drops = brand_df_drops.where(pd.notnull(brand_df_drops), 0)\n",
    "brand_df_drops['media'] = brand_df_drops['media'].astype(bool)\n",
    "\n",
    "brand_df_drops['tweet_text_only'] = brand_df_drops['tweet_text_only'].astype('str')\n",
    "brand_df_drops['source'] = brand_df_drops['source'].astype('str')"
   ]
  },
  {
   "cell_type": "code",
   "execution_count": 15,
   "metadata": {},
   "outputs": [
    {
     "data": {
      "text/plain": [
       "(469, 12)"
      ]
     },
     "execution_count": 15,
     "metadata": {},
     "output_type": "execute_result"
    }
   ],
   "source": [
    "brand_df_drops.shape"
   ]
  },
  {
   "cell_type": "code",
   "execution_count": 16,
   "metadata": {},
   "outputs": [
    {
     "data": {
      "text/plain": [
       "False    62.260128\n",
       "True     37.739872\n",
       "Name: joke_or_meme, dtype: float64"
      ]
     },
     "execution_count": 16,
     "metadata": {},
     "output_type": "execute_result"
    }
   ],
   "source": [
    "# Checking for class imbalance\n",
    "brand_df_drops['joke_or_meme'].value_counts(normalize=True) * 100"
   ]
  },
  {
   "cell_type": "code",
   "execution_count": 17,
   "metadata": {},
   "outputs": [],
   "source": [
    "# for i in range(len(brand_df_drops)-1):\n",
    "#     if brand_df_drops['emojis'][i] != '0':\n",
    "#         brand_df_drops['emojis'][i] = brand_df_drops['emojis'][i].replace('',' ').strip()\n",
    "#     else:\n",
    "#         brand_df_drops['emojis'][i] = brand_df_drops['emojis'][i]"
   ]
  },
  {
   "cell_type": "code",
   "execution_count": 18,
   "metadata": {},
   "outputs": [
    {
     "data": {
      "text/html": [
       "<div>\n",
       "<style scoped>\n",
       "    .dataframe tbody tr th:only-of-type {\n",
       "        vertical-align: middle;\n",
       "    }\n",
       "\n",
       "    .dataframe tbody tr th {\n",
       "        vertical-align: top;\n",
       "    }\n",
       "\n",
       "    .dataframe thead th {\n",
       "        text-align: right;\n",
       "    }\n",
       "</style>\n",
       "<table border=\"1\" class=\"dataframe\">\n",
       "  <thead>\n",
       "    <tr style=\"text-align: right;\">\n",
       "      <th></th>\n",
       "      <th>tweet_length</th>\n",
       "      <th>num_hashtags</th>\n",
       "      <th>num_mentions</th>\n",
       "      <th>num_emojis</th>\n",
       "      <th>media</th>\n",
       "      <th>tweet_text_only</th>\n",
       "      <th>grammar_errors_per_word</th>\n",
       "      <th>source</th>\n",
       "      <th>joke_or_meme</th>\n",
       "      <th>prptn_rts_vs_acc_avg</th>\n",
       "      <th>prptn_hrts_vs_acc_avg</th>\n",
       "      <th>sentiment_polarity</th>\n",
       "    </tr>\n",
       "  </thead>\n",
       "  <tbody>\n",
       "    <tr>\n",
       "      <th>0</th>\n",
       "      <td>165</td>\n",
       "      <td>0</td>\n",
       "      <td>0</td>\n",
       "      <td>0</td>\n",
       "      <td>True</td>\n",
       "      <td>Spoil the coffee lover in your life with the gift of a better brew. Shop coffee makers and cappuccino machines today.</td>\n",
       "      <td>0.000000</td>\n",
       "      <td>Sprinklr Publishing</td>\n",
       "      <td>False</td>\n",
       "      <td>0.285199</td>\n",
       "      <td>0.412210</td>\n",
       "      <td>0.8625</td>\n",
       "    </tr>\n",
       "    <tr>\n",
       "      <th>1</th>\n",
       "      <td>222</td>\n",
       "      <td>1</td>\n",
       "      <td>0</td>\n",
       "      <td>0</td>\n",
       "      <td>True</td>\n",
       "      <td>As we continue to put your , we've adjusted our service on certain flights. To discover what service offerings will be available on your upcoming flight, visit</td>\n",
       "      <td>0.074074</td>\n",
       "      <td>Sprinklr Publishing</td>\n",
       "      <td>False</td>\n",
       "      <td>0.867710</td>\n",
       "      <td>0.401954</td>\n",
       "      <td>0.2732</td>\n",
       "    </tr>\n",
       "  </tbody>\n",
       "</table>\n",
       "</div>"
      ],
      "text/plain": [
       "   tweet_length  num_hashtags  num_mentions  num_emojis  media  \\\n",
       "0           165             0             0           0   True   \n",
       "1           222             1             0           0   True   \n",
       "\n",
       "                                                                                                                                                   tweet_text_only  \\\n",
       "0                                            Spoil the coffee lover in your life with the gift of a better brew. Shop coffee makers and cappuccino machines today.   \n",
       "1  As we continue to put your , we've adjusted our service on certain flights. To discover what service offerings will be available on your upcoming flight, visit   \n",
       "\n",
       "   grammar_errors_per_word               source  joke_or_meme  \\\n",
       "0                 0.000000  Sprinklr Publishing         False   \n",
       "1                 0.074074  Sprinklr Publishing         False   \n",
       "\n",
       "   prptn_rts_vs_acc_avg  prptn_hrts_vs_acc_avg  sentiment_polarity  \n",
       "0              0.285199               0.412210              0.8625  \n",
       "1              0.867710               0.401954              0.2732  "
      ]
     },
     "execution_count": 18,
     "metadata": {},
     "output_type": "execute_result"
    }
   ],
   "source": [
    "brand_df_drops.head(2)"
   ]
  },
  {
   "cell_type": "code",
   "execution_count": 19,
   "metadata": {},
   "outputs": [
    {
     "data": {
      "text/plain": [
       "tweet_length                 int64\n",
       "num_hashtags                 int64\n",
       "num_mentions                 int64\n",
       "num_emojis                   int64\n",
       "media                         bool\n",
       "tweet_text_only             object\n",
       "grammar_errors_per_word    float64\n",
       "source                      object\n",
       "joke_or_meme                  bool\n",
       "prptn_rts_vs_acc_avg       float64\n",
       "prptn_hrts_vs_acc_avg      float64\n",
       "sentiment_polarity         float64\n",
       "dtype: object"
      ]
     },
     "execution_count": 19,
     "metadata": {},
     "output_type": "execute_result"
    }
   ],
   "source": [
    "brand_df_drops.dtypes"
   ]
  },
  {
   "cell_type": "code",
   "execution_count": 20,
   "metadata": {},
   "outputs": [],
   "source": [
    "train_df, test_df = train_test_split(brand_df_drops, test_size=0.3, random_state=123)"
   ]
  },
  {
   "cell_type": "code",
   "execution_count": 21,
   "metadata": {},
   "outputs": [
    {
     "data": {
      "text/plain": [
       "Text(0.5, 1.0, 'Correlation Chart of All Features in train_df')"
      ]
     },
     "execution_count": 21,
     "metadata": {},
     "output_type": "execute_result"
    },
    {
     "data": {
      "image/png": "[encoded data removed]",
      "text/plain": [
       "<Figure size 1440x720 with 2 Axes>"
      ]
     },
     "metadata": {
      "needs_background": "light"
     },
     "output_type": "display_data"
    }
   ],
   "source": [
    "plt.figure(figsize=(20,10))\n",
    "c= train_df.corr()\n",
    "sns.heatmap(c,annot=True).set_title('Correlation Chart of All Features in train_df')"
   ]
  },
  {
   "cell_type": "markdown",
   "metadata": {},
   "source": [
    "# Preprocessing"
   ]
  },
  {
   "cell_type": "code",
   "execution_count": 22,
   "metadata": {},
   "outputs": [],
   "source": [
    "X_train, y_train = train_df.drop(columns=['joke_or_meme']), train_df['joke_or_meme']\n",
    "X_test, y_test = test_df.drop(columns=['joke_or_meme']), test_df['joke_or_meme']"
   ]
  },
  {
   "cell_type": "code",
   "execution_count": 23,
   "metadata": {},
   "outputs": [
    {
     "data": {
      "text/plain": [
       "tweet_length                 int64\n",
       "num_hashtags                 int64\n",
       "num_mentions                 int64\n",
       "num_emojis                   int64\n",
       "media                         bool\n",
       "tweet_text_only             object\n",
       "grammar_errors_per_word    float64\n",
       "source                      object\n",
       "prptn_rts_vs_acc_avg       float64\n",
       "prptn_hrts_vs_acc_avg      float64\n",
       "sentiment_polarity         float64\n",
       "dtype: object"
      ]
     },
     "execution_count": 23,
     "metadata": {},
     "output_type": "execute_result"
    }
   ],
   "source": [
    "X_train.dtypes"
   ]
  },
  {
   "cell_type": "code",
   "execution_count": 24,
   "metadata": {},
   "outputs": [],
   "source": [
    "categorical_features = [\"source\"]\n",
    "binary_features = [\"media\"]\n",
    "text_feature = \"tweet_text_only\"\n",
    "\n",
    "numeric_features = list(\n",
    "    set(X_train.columns)\n",
    "    - set(binary_features)\n",
    "    - set(categorical_features)\n",
    "    - set(text_feature)\n",
    ")\n",
    "\n",
    "numeric_features.remove('tweet_text_only')\n",
    "\n",
    "preprocessor = make_column_transformer(\n",
    "    (OneHotEncoder(handle_unknown=\"ignore\"), categorical_features),\n",
    "    (CountVectorizer(max_features=20000), text_feature),\n",
    "    (\"passthrough\", binary_features),\n",
    "    (StandardScaler(), numeric_features)\n",
    ")"
   ]
  },
  {
   "cell_type": "code",
   "execution_count": 25,
   "metadata": {},
   "outputs": [
    {
     "data": {
      "text/plain": [
       "['num_hashtags',\n",
       " 'prptn_rts_vs_acc_avg',\n",
       " 'sentiment_polarity',\n",
       " 'num_emojis',\n",
       " 'num_mentions',\n",
       " 'prptn_hrts_vs_acc_avg',\n",
       " 'tweet_length',\n",
       " 'grammar_errors_per_word']"
      ]
     },
     "execution_count": 25,
     "metadata": {},
     "output_type": "execute_result"
    }
   ],
   "source": [
    "numeric_features"
   ]
  },
  {
   "cell_type": "markdown",
   "metadata": {},
   "source": [
    "# Testing Basic Pipelines"
   ]
  },
  {
   "cell_type": "code",
   "execution_count": 26,
   "metadata": {},
   "outputs": [
    {
     "data": {
      "text/plain": [
       "fit_time       0.016549\n",
       "score_time     0.007462\n",
       "test_score     0.521585\n",
       "train_score    0.533538\n",
       "dtype: float64"
      ]
     },
     "execution_count": 26,
     "metadata": {},
     "output_type": "execute_result"
    }
   ],
   "source": [
    "dummy_pipe = make_pipeline(preprocessor, DummyClassifier(strategy=\"stratified\"))\n",
    "\n",
    "pd.DataFrame(\n",
    "    cross_validate(\n",
    "        dummy_pipe,\n",
    "        X_train,\n",
    "        y_train,\n",
    "        return_train_score=True\n",
    "    )\n",
    ").mean()"
   ]
  },
  {
   "cell_type": "code",
   "execution_count": 27,
   "metadata": {},
   "outputs": [
    {
     "data": {
      "text/plain": [
       "fit_time          0.032831\n",
       "score_time        0.007774\n",
       "test_f1           0.767958\n",
       "train_f1          0.961613\n",
       "test_accuracy     0.823077\n",
       "train_accuracy    0.970278\n",
       "dtype: float64"
      ]
     },
     "execution_count": 27,
     "metadata": {},
     "output_type": "execute_result"
    }
   ],
   "source": [
    "cv_baseline = make_pipeline(\n",
    "    preprocessor, LogisticRegression(max_iter=1000, class_weight=\"balanced\")\n",
    ")\n",
    "\n",
    "pd.DataFrame(\n",
    "    cross_validate(\n",
    "        cv_baseline,\n",
    "        X_train,\n",
    "        y_train,\n",
    "        return_train_score=True,\n",
    "        scoring=[\"f1\", \"accuracy\"],\n",
    "    )\n",
    ").mean()"
   ]
  },
  {
   "cell_type": "markdown",
   "metadata": {},
   "source": [
    "# Decision Tree"
   ]
  },
  {
   "cell_type": "code",
   "execution_count": 28,
   "metadata": {},
   "outputs": [],
   "source": [
    "# code to store cross validation results\n",
    "\n",
    "def mean_std_cross_val_scores(model, X_train, y_train, **kwargs):\n",
    "    \"\"\"\n",
    "    Returns mean and std of cross validation\n",
    "    \"\"\"\n",
    "    scores = cross_validate(model, X_train, y_train, **kwargs)\n",
    "\n",
    "    mean_scores = pd.DataFrame(scores).mean()\n",
    "    std_scores = pd.DataFrame(scores).std()\n",
    "    out_col = []\n",
    "\n",
    "    for i in range(len(mean_scores)):\n",
    "        out_col.append((f\"%0.3f (+/- %0.3f)\" % (mean_scores[i], std_scores[i])))\n",
    "\n",
    "    return pd.Series(data=out_col, index=mean_scores.index)"
   ]
  },
  {
   "cell_type": "code",
   "execution_count": 29,
   "metadata": {},
   "outputs": [
    {
     "data": {
      "text/html": [
       "<div>\n",
       "<style scoped>\n",
       "    .dataframe tbody tr th:only-of-type {\n",
       "        vertical-align: middle;\n",
       "    }\n",
       "\n",
       "    .dataframe tbody tr th {\n",
       "        vertical-align: top;\n",
       "    }\n",
       "\n",
       "    .dataframe thead th {\n",
       "        text-align: right;\n",
       "    }\n",
       "</style>\n",
       "<table border=\"1\" class=\"dataframe\">\n",
       "  <thead>\n",
       "    <tr style=\"text-align: right;\">\n",
       "      <th></th>\n",
       "      <th>decisicion tree</th>\n",
       "    </tr>\n",
       "  </thead>\n",
       "  <tbody>\n",
       "    <tr>\n",
       "      <th>fit_time</th>\n",
       "      <td>0.020 (+/- 0.002)</td>\n",
       "    </tr>\n",
       "    <tr>\n",
       "      <th>score_time</th>\n",
       "      <td>0.007 (+/- 0.001)</td>\n",
       "    </tr>\n",
       "    <tr>\n",
       "      <th>test_score</th>\n",
       "      <td>0.771 (+/- 0.058)</td>\n",
       "    </tr>\n",
       "    <tr>\n",
       "      <th>train_score</th>\n",
       "      <td>1.000 (+/- 0.000)</td>\n",
       "    </tr>\n",
       "  </tbody>\n",
       "</table>\n",
       "</div>"
      ],
      "text/plain": [
       "               decisicion tree\n",
       "fit_time     0.020 (+/- 0.002)\n",
       "score_time   0.007 (+/- 0.001)\n",
       "test_score   0.771 (+/- 0.058)\n",
       "train_score  1.000 (+/- 0.000)"
      ]
     },
     "execution_count": 29,
     "metadata": {},
     "output_type": "execute_result"
    }
   ],
   "source": [
    "results = {}\n",
    "dt_pipe = make_pipeline(preprocessor, DecisionTreeClassifier())\n",
    "\n",
    "results[\"decisicion tree\"] = mean_std_cross_val_scores(\n",
    "    dt_pipe, X_train, y_train, return_train_score=True\n",
    ")\n",
    "\n",
    "pd.DataFrame(results)"
   ]
  },
  {
   "cell_type": "code",
   "execution_count": 30,
   "metadata": {},
   "outputs": [],
   "source": [
    "pipe_lr = make_pipeline(preprocessor, LogisticRegression(max_iter=2000, random_state=2))\n",
    "pipe_rf = make_pipeline(preprocessor, RandomForestClassifier(random_state=2, class_weight=\"balanced\"))\n",
    "pipe_xgb = make_pipeline(preprocessor, XGBClassifier(random_state=2))\n",
    "pipe_lgbm = make_pipeline(preprocessor, LGBMClassifier(random_state=2))\n",
    "pipe_catboost = make_pipeline(\n",
    "    preprocessor, CatBoostClassifier(verbose=0, random_state=123)\n",
    ")\n",
    "\n",
    "classifiers = {\n",
    "    \"logistic regression\": pipe_lr,\n",
    "    \"balanced random forest\": pipe_rf,\n",
    "    \"XGBoost\": pipe_xgb,\n",
    "    \"LightGBM\": pipe_lgbm,\n",
    "}"
   ]
  },
  {
   "cell_type": "code",
   "execution_count": 31,
   "metadata": {},
   "outputs": [
    {
     "name": "stderr",
     "output_type": "stream",
     "text": [
      "/Users/mpin/opt/miniconda3/lib/python3.8/site-packages/xgboost/sklearn.py:888: UserWarning: The use of label encoder in XGBClassifier is deprecated and will be removed in a future release. To remove this warning, do the following: 1) Pass option use_label_encoder=False when constructing XGBClassifier object; and 2) Encode your labels (y) as integers starting with 0, i.e. 0, 1, 2, ..., [num_class - 1].\n",
      "  warnings.warn(label_encoder_deprecation_msg, UserWarning)\n"
     ]
    },
    {
     "name": "stdout",
     "output_type": "stream",
     "text": [
      "[12:50:59] WARNING: /Users/runner/miniforge3/conda-bld/xgboost_1607604592557/work/src/learner.cc:1061: Starting in XGBoost 1.3.0, the default evaluation metric used with the objective 'binary:logistic' was changed from 'error' to 'logloss'. Explicitly set eval_metric if you'd like to restore the old behavior.\n"
     ]
    },
    {
     "name": "stderr",
     "output_type": "stream",
     "text": [
      "/Users/mpin/opt/miniconda3/lib/python3.8/site-packages/xgboost/sklearn.py:888: UserWarning: The use of label encoder in XGBClassifier is deprecated and will be removed in a future release. To remove this warning, do the following: 1) Pass option use_label_encoder=False when constructing XGBClassifier object; and 2) Encode your labels (y) as integers starting with 0, i.e. 0, 1, 2, ..., [num_class - 1].\n",
      "  warnings.warn(label_encoder_deprecation_msg, UserWarning)\n"
     ]
    },
    {
     "name": "stdout",
     "output_type": "stream",
     "text": [
      "[12:50:59] WARNING: /Users/runner/miniforge3/conda-bld/xgboost_1607604592557/work/src/learner.cc:1061: Starting in XGBoost 1.3.0, the default evaluation metric used with the objective 'binary:logistic' was changed from 'error' to 'logloss'. Explicitly set eval_metric if you'd like to restore the old behavior.\n"
     ]
    },
    {
     "name": "stderr",
     "output_type": "stream",
     "text": [
      "/Users/mpin/opt/miniconda3/lib/python3.8/site-packages/xgboost/sklearn.py:888: UserWarning: The use of label encoder in XGBClassifier is deprecated and will be removed in a future release. To remove this warning, do the following: 1) Pass option use_label_encoder=False when constructing XGBClassifier object; and 2) Encode your labels (y) as integers starting with 0, i.e. 0, 1, 2, ..., [num_class - 1].\n",
      "  warnings.warn(label_encoder_deprecation_msg, UserWarning)\n"
     ]
    },
    {
     "name": "stdout",
     "output_type": "stream",
     "text": [
      "[12:50:59] WARNING: /Users/runner/miniforge3/conda-bld/xgboost_1607604592557/work/src/learner.cc:1061: Starting in XGBoost 1.3.0, the default evaluation metric used with the objective 'binary:logistic' was changed from 'error' to 'logloss'. Explicitly set eval_metric if you'd like to restore the old behavior.\n"
     ]
    },
    {
     "name": "stderr",
     "output_type": "stream",
     "text": [
      "/Users/mpin/opt/miniconda3/lib/python3.8/site-packages/xgboost/sklearn.py:888: UserWarning: The use of label encoder in XGBClassifier is deprecated and will be removed in a future release. To remove this warning, do the following: 1) Pass option use_label_encoder=False when constructing XGBClassifier object; and 2) Encode your labels (y) as integers starting with 0, i.e. 0, 1, 2, ..., [num_class - 1].\n",
      "  warnings.warn(label_encoder_deprecation_msg, UserWarning)\n",
      "/Users/mpin/opt/miniconda3/lib/python3.8/site-packages/xgboost/sklearn.py:888: UserWarning: The use of label encoder in XGBClassifier is deprecated and will be removed in a future release. To remove this warning, do the following: 1) Pass option use_label_encoder=False when constructing XGBClassifier object; and 2) Encode your labels (y) as integers starting with 0, i.e. 0, 1, 2, ..., [num_class - 1].\n",
      "  warnings.warn(label_encoder_deprecation_msg, UserWarning)\n"
     ]
    },
    {
     "name": "stdout",
     "output_type": "stream",
     "text": [
      "[12:50:59] WARNING: /Users/runner/miniforge3/conda-bld/xgboost_1607604592557/work/src/learner.cc:1061: Starting in XGBoost 1.3.0, the default evaluation metric used with the objective 'binary:logistic' was changed from 'error' to 'logloss'. Explicitly set eval_metric if you'd like to restore the old behavior.\n",
      "[12:50:59] WARNING: /Users/runner/miniforge3/conda-bld/xgboost_1607604592557/work/src/learner.cc:1061: Starting in XGBoost 1.3.0, the default evaluation metric used with the objective 'binary:logistic' was changed from 'error' to 'logloss'. Explicitly set eval_metric if you'd like to restore the old behavior.\n"
     ]
    },
    {
     "data": {
      "text/html": [
       "<div>\n",
       "<style scoped>\n",
       "    .dataframe tbody tr th:only-of-type {\n",
       "        vertical-align: middle;\n",
       "    }\n",
       "\n",
       "    .dataframe tbody tr th {\n",
       "        vertical-align: top;\n",
       "    }\n",
       "\n",
       "    .dataframe thead th {\n",
       "        text-align: right;\n",
       "    }\n",
       "</style>\n",
       "<table border=\"1\" class=\"dataframe\">\n",
       "  <thead>\n",
       "    <tr style=\"text-align: right;\">\n",
       "      <th></th>\n",
       "      <th>decisicion tree</th>\n",
       "      <th>logistic regression</th>\n",
       "      <th>balanced random forest</th>\n",
       "      <th>XGBoost</th>\n",
       "      <th>LightGBM</th>\n",
       "    </tr>\n",
       "  </thead>\n",
       "  <tbody>\n",
       "    <tr>\n",
       "      <th>fit_time</th>\n",
       "      <td>0.020 (+/- 0.002)</td>\n",
       "      <td>0.033 (+/- 0.002)</td>\n",
       "      <td>0.157 (+/- 0.004)</td>\n",
       "      <td>0.198 (+/- 0.043)</td>\n",
       "      <td>0.051 (+/- 0.012)</td>\n",
       "    </tr>\n",
       "    <tr>\n",
       "      <th>score_time</th>\n",
       "      <td>0.007 (+/- 0.001)</td>\n",
       "      <td>0.008 (+/- 0.000)</td>\n",
       "      <td>0.016 (+/- 0.001)</td>\n",
       "      <td>0.013 (+/- 0.001)</td>\n",
       "      <td>0.009 (+/- 0.000)</td>\n",
       "    </tr>\n",
       "    <tr>\n",
       "      <th>test_score</th>\n",
       "      <td>0.771 (+/- 0.058)</td>\n",
       "      <td>0.823 (+/- 0.024)</td>\n",
       "      <td>0.841 (+/- 0.033)</td>\n",
       "      <td>0.832 (+/- 0.046)</td>\n",
       "      <td>0.820 (+/- 0.045)</td>\n",
       "    </tr>\n",
       "    <tr>\n",
       "      <th>train_score</th>\n",
       "      <td>1.000 (+/- 0.000)</td>\n",
       "      <td>0.977 (+/- 0.005)</td>\n",
       "      <td>1.000 (+/- 0.000)</td>\n",
       "      <td>1.000 (+/- 0.000)</td>\n",
       "      <td>1.000 (+/- 0.000)</td>\n",
       "    </tr>\n",
       "  </tbody>\n",
       "</table>\n",
       "</div>"
      ],
      "text/plain": [
       "               decisicion tree logistic regression balanced random forest  \\\n",
       "fit_time     0.020 (+/- 0.002)   0.033 (+/- 0.002)      0.157 (+/- 0.004)   \n",
       "score_time   0.007 (+/- 0.001)   0.008 (+/- 0.000)      0.016 (+/- 0.001)   \n",
       "test_score   0.771 (+/- 0.058)   0.823 (+/- 0.024)      0.841 (+/- 0.033)   \n",
       "train_score  1.000 (+/- 0.000)   0.977 (+/- 0.005)      1.000 (+/- 0.000)   \n",
       "\n",
       "                       XGBoost           LightGBM  \n",
       "fit_time     0.198 (+/- 0.043)  0.051 (+/- 0.012)  \n",
       "score_time   0.013 (+/- 0.001)  0.009 (+/- 0.000)  \n",
       "test_score   0.832 (+/- 0.046)  0.820 (+/- 0.045)  \n",
       "train_score  1.000 (+/- 0.000)  1.000 (+/- 0.000)  "
      ]
     },
     "execution_count": 31,
     "metadata": {},
     "output_type": "execute_result"
    }
   ],
   "source": [
    "for (name, model) in classifiers.items():\n",
    "    results[name] = mean_std_cross_val_scores(\n",
    "        model, X_train, y_train, return_train_score=True, scoring = \"accuracy\"\n",
    "    )\n",
    "\n",
    "pd.DataFrame(results)"
   ]
  },
  {
   "cell_type": "markdown",
   "metadata": {},
   "source": [
    "# (Balanced class weight) Random Forest hyperparameter tuning"
   ]
  },
  {
   "cell_type": "code",
   "execution_count": 33,
   "metadata": {},
   "outputs": [],
   "source": [
    "import scipy\n",
    "from scipy.stats import randint\n",
    "forest_pipe = make_pipeline(preprocessor, RandomForestClassifier(class_weight=\"balanced\"))\n",
    "\n",
    "param_grid = {\n",
    "    \"randomforestclassifier__n_estimators\": scipy.stats.randint(low=10, high=300),\n",
    "    \"randomforestclassifier__max_depth\": scipy.stats.randint(low=2, high=20),\n",
    "}"
   ]
  },
  {
   "cell_type": "code",
   "execution_count": 34,
   "metadata": {},
   "outputs": [
    {
     "name": "stdout",
     "output_type": "stream",
     "text": [
      "Fitting 5 folds for each of 5 candidates, totalling 25 fits\n"
     ]
    },
    {
     "name": "stderr",
     "output_type": "stream",
     "text": [
      "[Parallel(n_jobs=-1)]: Using backend LokyBackend with 8 concurrent workers.\n",
      "[Parallel(n_jobs=-1)]: Done  25 out of  25 | elapsed:    3.1s finished\n"
     ]
    },
    {
     "data": {
      "text/plain": [
       "RandomizedSearchCV(estimator=Pipeline(steps=[('columntransformer',\n",
       "                                              ColumnTransformer(transformers=[('onehotencoder',\n",
       "                                                                               OneHotEncoder(handle_unknown='ignore'),\n",
       "                                                                               ['source']),\n",
       "                                                                              ('countvectorizer',\n",
       "                                                                               CountVectorizer(max_features=20000),\n",
       "                                                                               'tweet_text_only'),\n",
       "                                                                              ('passthrough',\n",
       "                                                                               'passthrough',\n",
       "                                                                               ['media']),\n",
       "                                                                              ('standardscaler',\n",
       "                                                                               StandardScaler(),\n",
       "                                                                               ['num_hashtags',\n",
       "                                                                                'prptn_rts_vs_acc_a...\n",
       "                                              RandomForestClassifier(class_weight='balanced'))]),\n",
       "                   n_iter=5, n_jobs=-1,\n",
       "                   param_distributions={'randomforestclassifier__max_depth': <scipy.stats._distn_infrastructure.rv_frozen object at 0x7f7f0715ad60>,\n",
       "                                        'randomforestclassifier__n_estimators': <scipy.stats._distn_infrastructure.rv_frozen object at 0x7f7f0717d610>},\n",
       "                   random_state=123, return_train_score=True, verbose=1)"
      ]
     },
     "execution_count": 34,
     "metadata": {},
     "output_type": "execute_result"
    }
   ],
   "source": [
    "random_search_forest = RandomizedSearchCV(\n",
    "    forest_pipe,\n",
    "    param_grid,\n",
    "    n_iter=5,\n",
    "    verbose=1,\n",
    "    n_jobs=-1,\n",
    "    random_state=123,\n",
    "    return_train_score=True\n",
    ")\n",
    "random_search_forest.fit(X_train, y_train)"
   ]
  },
  {
   "cell_type": "code",
   "execution_count": 35,
   "metadata": {},
   "outputs": [
    {
     "data": {
      "text/html": [
       "<div>\n",
       "<style scoped>\n",
       "    .dataframe tbody tr th:only-of-type {\n",
       "        vertical-align: middle;\n",
       "    }\n",
       "\n",
       "    .dataframe tbody tr th {\n",
       "        vertical-align: top;\n",
       "    }\n",
       "\n",
       "    .dataframe thead th {\n",
       "        text-align: right;\n",
       "    }\n",
       "</style>\n",
       "<table border=\"1\" class=\"dataframe\">\n",
       "  <thead>\n",
       "    <tr style=\"text-align: right;\">\n",
       "      <th></th>\n",
       "      <th>mean_train_score</th>\n",
       "      <th>mean_test_score</th>\n",
       "      <th>std_train_score</th>\n",
       "      <th>std_test_score</th>\n",
       "      <th>param_randomforestclassifier__n_estimators</th>\n",
       "      <th>param_randomforestclassifier__max_depth</th>\n",
       "      <th>mean_fit_time</th>\n",
       "    </tr>\n",
       "    <tr>\n",
       "      <th>rank_test_score</th>\n",
       "      <th></th>\n",
       "      <th></th>\n",
       "      <th></th>\n",
       "      <th></th>\n",
       "      <th></th>\n",
       "      <th></th>\n",
       "      <th></th>\n",
       "    </tr>\n",
       "  </thead>\n",
       "  <tbody>\n",
       "    <tr>\n",
       "      <th>1</th>\n",
       "      <td>0.949700</td>\n",
       "      <td>0.832214</td>\n",
       "      <td>0.003668</td>\n",
       "      <td>0.034108</td>\n",
       "      <td>133</td>\n",
       "      <td>12</td>\n",
       "      <td>0.409031</td>\n",
       "    </tr>\n",
       "    <tr>\n",
       "      <th>2</th>\n",
       "      <td>0.965695</td>\n",
       "      <td>0.829231</td>\n",
       "      <td>0.010794</td>\n",
       "      <td>0.018168</td>\n",
       "      <td>108</td>\n",
       "      <td>15</td>\n",
       "      <td>0.381710</td>\n",
       "    </tr>\n",
       "    <tr>\n",
       "      <th>3</th>\n",
       "      <td>0.982466</td>\n",
       "      <td>0.829091</td>\n",
       "      <td>0.003064</td>\n",
       "      <td>0.038834</td>\n",
       "      <td>136</td>\n",
       "      <td>19</td>\n",
       "      <td>0.362247</td>\n",
       "    </tr>\n",
       "    <tr>\n",
       "      <th>4</th>\n",
       "      <td>0.880350</td>\n",
       "      <td>0.829044</td>\n",
       "      <td>0.010760</td>\n",
       "      <td>0.041300</td>\n",
       "      <td>106</td>\n",
       "      <td>3</td>\n",
       "      <td>0.282859</td>\n",
       "    </tr>\n",
       "    <tr>\n",
       "      <th>5</th>\n",
       "      <td>0.919197</td>\n",
       "      <td>0.813939</td>\n",
       "      <td>0.008235</td>\n",
       "      <td>0.026879</td>\n",
       "      <td>27</td>\n",
       "      <td>8</td>\n",
       "      <td>0.125329</td>\n",
       "    </tr>\n",
       "  </tbody>\n",
       "</table>\n",
       "</div>"
      ],
      "text/plain": [
       "                 mean_train_score  mean_test_score  std_train_score  \\\n",
       "rank_test_score                                                       \n",
       "1                        0.949700         0.832214         0.003668   \n",
       "2                        0.965695         0.829231         0.010794   \n",
       "3                        0.982466         0.829091         0.003064   \n",
       "4                        0.880350         0.829044         0.010760   \n",
       "5                        0.919197         0.813939         0.008235   \n",
       "\n",
       "                 std_test_score param_randomforestclassifier__n_estimators  \\\n",
       "rank_test_score                                                              \n",
       "1                      0.034108                                        133   \n",
       "2                      0.018168                                        108   \n",
       "3                      0.038834                                        136   \n",
       "4                      0.041300                                        106   \n",
       "5                      0.026879                                         27   \n",
       "\n",
       "                param_randomforestclassifier__max_depth  mean_fit_time  \n",
       "rank_test_score                                                         \n",
       "1                                                    12       0.409031  \n",
       "2                                                    15       0.381710  \n",
       "3                                                    19       0.362247  \n",
       "4                                                     3       0.282859  \n",
       "5                                                     8       0.125329  "
      ]
     },
     "execution_count": 35,
     "metadata": {},
     "output_type": "execute_result"
    }
   ],
   "source": [
    "pd.DataFrame(random_search_forest.cv_results_)[\n",
    "    [\n",
    "        \"mean_train_score\",\n",
    "        \"mean_test_score\",\n",
    "        \"std_train_score\",\n",
    "        \"std_test_score\",\n",
    "        \"param_randomforestclassifier__n_estimators\",\n",
    "        \"param_randomforestclassifier__max_depth\",\n",
    "        \"mean_fit_time\",\n",
    "        \"rank_test_score\",\n",
    "    ]\n",
    "].set_index(\"rank_test_score\").sort_index().head()"
   ]
  },
  {
   "cell_type": "code",
   "execution_count": 36,
   "metadata": {},
   "outputs": [
    {
     "data": {
      "text/plain": [
       "RandomForestClassifier(class_weight='balanced', max_depth=12, n_estimators=133)"
      ]
     },
     "execution_count": 36,
     "metadata": {},
     "output_type": "execute_result"
    }
   ],
   "source": [
    "random_search_forest.best_estimator_.named_steps[\"randomforestclassifier\"]"
   ]
  },
  {
   "cell_type": "code",
   "execution_count": null,
   "metadata": {},
   "outputs": [],
   "source": []
  },
  {
   "cell_type": "markdown",
   "metadata": {},
   "source": [
    "# Feature Coefficents (linear regression)"
   ]
  },
  {
   "cell_type": "code",
   "execution_count": 38,
   "metadata": {},
   "outputs": [
    {
     "data": {
      "text/html": [
       "<div>\n",
       "<style scoped>\n",
       "    .dataframe tbody tr th:only-of-type {\n",
       "        vertical-align: middle;\n",
       "    }\n",
       "\n",
       "    .dataframe tbody tr th {\n",
       "        vertical-align: top;\n",
       "    }\n",
       "\n",
       "    .dataframe thead th {\n",
       "        text-align: right;\n",
       "    }\n",
       "</style>\n",
       "<table border=\"1\" class=\"dataframe\">\n",
       "  <thead>\n",
       "    <tr style=\"text-align: right;\">\n",
       "      <th></th>\n",
       "      <th>coefficient</th>\n",
       "      <th>magnitude</th>\n",
       "    </tr>\n",
       "  </thead>\n",
       "  <tbody>\n",
       "    <tr>\n",
       "      <th>flight</th>\n",
       "      <td>-1.108634</td>\n",
       "      <td>1.108634</td>\n",
       "    </tr>\n",
       "    <tr>\n",
       "      <th>you</th>\n",
       "      <td>-0.997000</td>\n",
       "      <td>0.997000</td>\n",
       "    </tr>\n",
       "    <tr>\n",
       "      <th>num_mentions</th>\n",
       "      <td>-0.916401</td>\n",
       "      <td>0.916401</td>\n",
       "    </tr>\n",
       "    <tr>\n",
       "      <th>your</th>\n",
       "      <td>-0.758354</td>\n",
       "      <td>0.758354</td>\n",
       "    </tr>\n",
       "    <tr>\n",
       "      <th>prptn_hrts_vs_acc_avg</th>\n",
       "      <td>0.752625</td>\n",
       "      <td>0.752625</td>\n",
       "    </tr>\n",
       "    <tr>\n",
       "      <th>peek</th>\n",
       "      <td>-0.727842</td>\n",
       "      <td>0.727842</td>\n",
       "    </tr>\n",
       "    <tr>\n",
       "      <th>telling</th>\n",
       "      <td>0.714947</td>\n",
       "      <td>0.714947</td>\n",
       "    </tr>\n",
       "    <tr>\n",
       "      <th>marrakech</th>\n",
       "      <td>0.698653</td>\n",
       "      <td>0.698653</td>\n",
       "    </tr>\n",
       "    <tr>\n",
       "      <th>zoom</th>\n",
       "      <td>0.683368</td>\n",
       "      <td>0.683368</td>\n",
       "    </tr>\n",
       "    <tr>\n",
       "      <th>complain</th>\n",
       "      <td>-0.674311</td>\n",
       "      <td>0.674311</td>\n",
       "    </tr>\n",
       "    <tr>\n",
       "      <th>synthetic</th>\n",
       "      <td>0.664689</td>\n",
       "      <td>0.664689</td>\n",
       "    </tr>\n",
       "    <tr>\n",
       "      <th>poppin</th>\n",
       "      <td>0.613035</td>\n",
       "      <td>0.613035</td>\n",
       "    </tr>\n",
       "    <tr>\n",
       "      <th>leave</th>\n",
       "      <td>0.613035</td>\n",
       "      <td>0.613035</td>\n",
       "    </tr>\n",
       "    <tr>\n",
       "      <th>why</th>\n",
       "      <td>0.610871</td>\n",
       "      <td>0.610871</td>\n",
       "    </tr>\n",
       "    <tr>\n",
       "      <th>weeks</th>\n",
       "      <td>-0.609214</td>\n",
       "      <td>0.609214</td>\n",
       "    </tr>\n",
       "    <tr>\n",
       "      <th>donating</th>\n",
       "      <td>0.608643</td>\n",
       "      <td>0.608643</td>\n",
       "    </tr>\n",
       "    <tr>\n",
       "      <th>taking</th>\n",
       "      <td>0.607099</td>\n",
       "      <td>0.607099</td>\n",
       "    </tr>\n",
       "    <tr>\n",
       "      <th>know</th>\n",
       "      <td>-0.600755</td>\n",
       "      <td>0.600755</td>\n",
       "    </tr>\n",
       "    <tr>\n",
       "      <th>smaller</th>\n",
       "      <td>-0.590551</td>\n",
       "      <td>0.590551</td>\n",
       "    </tr>\n",
       "    <tr>\n",
       "      <th>yum</th>\n",
       "      <td>-0.584023</td>\n",
       "      <td>0.584023</td>\n",
       "    </tr>\n",
       "    <tr>\n",
       "      <th>taco</th>\n",
       "      <td>-0.579944</td>\n",
       "      <td>0.579944</td>\n",
       "    </tr>\n",
       "    <tr>\n",
       "      <th>72</th>\n",
       "      <td>0.575597</td>\n",
       "      <td>0.575597</td>\n",
       "    </tr>\n",
       "    <tr>\n",
       "      <th>got</th>\n",
       "      <td>0.572058</td>\n",
       "      <td>0.572058</td>\n",
       "    </tr>\n",
       "    <tr>\n",
       "      <th>thought</th>\n",
       "      <td>0.563810</td>\n",
       "      <td>0.563810</td>\n",
       "    </tr>\n",
       "    <tr>\n",
       "      <th>yourself</th>\n",
       "      <td>-0.561106</td>\n",
       "      <td>0.561106</td>\n",
       "    </tr>\n",
       "    <tr>\n",
       "      <th>after</th>\n",
       "      <td>-0.552949</td>\n",
       "      <td>0.552949</td>\n",
       "    </tr>\n",
       "    <tr>\n",
       "      <th>headed</th>\n",
       "      <td>-0.549503</td>\n",
       "      <td>0.549503</td>\n",
       "    </tr>\n",
       "    <tr>\n",
       "      <th>scott</th>\n",
       "      <td>-0.544238</td>\n",
       "      <td>0.544238</td>\n",
       "    </tr>\n",
       "    <tr>\n",
       "      <th>stuff</th>\n",
       "      <td>-0.542561</td>\n",
       "      <td>0.542561</td>\n",
       "    </tr>\n",
       "    <tr>\n",
       "      <th>operations</th>\n",
       "      <td>-0.537287</td>\n",
       "      <td>0.537287</td>\n",
       "    </tr>\n",
       "    <tr>\n",
       "      <th>tequila</th>\n",
       "      <td>0.529412</td>\n",
       "      <td>0.529412</td>\n",
       "    </tr>\n",
       "    <tr>\n",
       "      <th>john</th>\n",
       "      <td>0.529091</td>\n",
       "      <td>0.529091</td>\n",
       "    </tr>\n",
       "    <tr>\n",
       "      <th>snack</th>\n",
       "      <td>0.518857</td>\n",
       "      <td>0.518857</td>\n",
       "    </tr>\n",
       "    <tr>\n",
       "      <th>explanation</th>\n",
       "      <td>-0.507535</td>\n",
       "      <td>0.507535</td>\n",
       "    </tr>\n",
       "    <tr>\n",
       "      <th>then</th>\n",
       "      <td>0.504756</td>\n",
       "      <td>0.504756</td>\n",
       "    </tr>\n",
       "    <tr>\n",
       "      <th>missed</th>\n",
       "      <td>-0.504064</td>\n",
       "      <td>0.504064</td>\n",
       "    </tr>\n",
       "    <tr>\n",
       "      <th>menu</th>\n",
       "      <td>-0.488545</td>\n",
       "      <td>0.488545</td>\n",
       "    </tr>\n",
       "    <tr>\n",
       "      <th>honored</th>\n",
       "      <td>0.485875</td>\n",
       "      <td>0.485875</td>\n",
       "    </tr>\n",
       "    <tr>\n",
       "      <th>thanksgiving</th>\n",
       "      <td>0.484438</td>\n",
       "      <td>0.484438</td>\n",
       "    </tr>\n",
       "    <tr>\n",
       "      <th>living</th>\n",
       "      <td>-0.484146</td>\n",
       "      <td>0.484146</td>\n",
       "    </tr>\n",
       "  </tbody>\n",
       "</table>\n",
       "</div>"
      ],
      "text/plain": [
       "                       coefficient  magnitude\n",
       "flight                   -1.108634   1.108634\n",
       "you                      -0.997000   0.997000\n",
       "num_mentions             -0.916401   0.916401\n",
       "your                     -0.758354   0.758354\n",
       "prptn_hrts_vs_acc_avg     0.752625   0.752625\n",
       "peek                     -0.727842   0.727842\n",
       "telling                   0.714947   0.714947\n",
       "marrakech                 0.698653   0.698653\n",
       "zoom                      0.683368   0.683368\n",
       "complain                 -0.674311   0.674311\n",
       "synthetic                 0.664689   0.664689\n",
       "poppin                    0.613035   0.613035\n",
       "leave                     0.613035   0.613035\n",
       "why                       0.610871   0.610871\n",
       "weeks                    -0.609214   0.609214\n",
       "donating                  0.608643   0.608643\n",
       "taking                    0.607099   0.607099\n",
       "know                     -0.600755   0.600755\n",
       "smaller                  -0.590551   0.590551\n",
       "yum                      -0.584023   0.584023\n",
       "taco                     -0.579944   0.579944\n",
       "72                        0.575597   0.575597\n",
       "got                       0.572058   0.572058\n",
       "thought                   0.563810   0.563810\n",
       "yourself                 -0.561106   0.561106\n",
       "after                    -0.552949   0.552949\n",
       "headed                   -0.549503   0.549503\n",
       "scott                    -0.544238   0.544238\n",
       "stuff                    -0.542561   0.542561\n",
       "operations               -0.537287   0.537287\n",
       "tequila                   0.529412   0.529412\n",
       "john                      0.529091   0.529091\n",
       "snack                     0.518857   0.518857\n",
       "explanation              -0.507535   0.507535\n",
       "then                      0.504756   0.504756\n",
       "missed                   -0.504064   0.504064\n",
       "menu                     -0.488545   0.488545\n",
       "honored                   0.485875   0.485875\n",
       "thanksgiving              0.484438   0.484438\n",
       "living                   -0.484146   0.484146"
      ]
     },
     "execution_count": 38,
     "metadata": {},
     "output_type": "execute_result"
    }
   ],
   "source": [
    "pd.set_option('display.max_rows', 200)\n",
    "\n",
    "pipe_lr.fit(X_train, y_train)\n",
    "\n",
    "feature_names = (\n",
    "    numeric_features\n",
    "    + binary_features\n",
    "    + list(\n",
    "        pipe_lr.named_steps[\"columntransformer\"]\n",
    "        .named_transformers_[\"onehotencoder\"]\n",
    "        .get_feature_names()\n",
    "    )\n",
    "    + list(\n",
    "        pipe_lr.named_steps[\"columntransformer\"]\n",
    "        .named_transformers_[\"countvectorizer\"]\n",
    "        .get_feature_names()\n",
    "    )\n",
    ")\n",
    "\n",
    "data = {\n",
    "    \"coefficient\": pipe_lr.named_steps[\"logisticregression\"].coef_[0].tolist(),\n",
    "    \"magnitude\": np.absolute(\n",
    "        pipe_lr.named_steps[\"logisticregression\"].coef_[0].tolist()\n",
    "    ),\n",
    "}\n",
    "coef_df = pd.DataFrame(data, index=feature_names).sort_values(\n",
    "    \"magnitude\", ascending=False\n",
    ")\n",
    "coef_df[:40]"
   ]
  },
  {
   "cell_type": "markdown",
   "metadata": {},
   "source": [
    "# Examining random forest results"
   ]
  },
  {
   "cell_type": "code",
   "execution_count": 39,
   "metadata": {},
   "outputs": [
    {
     "data": {
      "text/plain": [
       "<sklearn.metrics._plot.confusion_matrix.ConfusionMatrixDisplay at 0x7f7f07213e50>"
      ]
     },
     "execution_count": 39,
     "metadata": {},
     "output_type": "execute_result"
    },
    {
     "data": {
      "image/png": "[encoded data removed]",
      "text/plain": [
       "<Figure size 432x288 with 2 Axes>"
      ]
     },
     "metadata": {
      "needs_background": "light"
     },
     "output_type": "display_data"
    }
   ],
   "source": [
    "from sklearn.metrics import plot_confusion_matrix\n",
    "\n",
    "plot_confusion_matrix(\n",
    "    random_search_forest,\n",
    "    X_test,\n",
    "    y_test,\n",
    "    display_labels=[\"Not a meme\", \"Is a meme\"],\n",
    "    cmap=plt.cm.Blues,\n",
    "    normalize=\"all\",\n",
    ")"
   ]
  },
  {
   "cell_type": "code",
   "execution_count": 40,
   "metadata": {},
   "outputs": [
    {
     "name": "stdout",
     "output_type": "stream",
     "text": [
      "              precision    recall  f1-score   support\n",
      "\n",
      "       False       0.88      0.83      0.85        86\n",
      "        True       0.75      0.82      0.78        55\n",
      "\n",
      "    accuracy                           0.82       141\n",
      "   macro avg       0.81      0.82      0.82       141\n",
      "weighted avg       0.83      0.82      0.82       141\n",
      "\n"
     ]
    }
   ],
   "source": [
    "from sklearn.metrics import classification_report\n",
    "\n",
    "print(classification_report(y_test, random_search_forest.predict(X_test)))"
   ]
  },
  {
   "cell_type": "markdown",
   "metadata": {},
   "source": [
    "# Text only model"
   ]
  },
  {
   "cell_type": "code",
   "execution_count": 42,
   "metadata": {},
   "outputs": [],
   "source": [
    "X_train_text_only = X_train['tweet_text_only']\n",
    "X_train_text_only = pd.DataFrame(X_train_text_only)\n",
    "\n",
    "X_test_text_only = X_test['tweet_text_only']\n",
    "X_test_text_only = pd.DataFrame(X_test_text_only)"
   ]
  },
  {
   "cell_type": "code",
   "execution_count": 43,
   "metadata": {},
   "outputs": [
    {
     "data": {
      "text/plain": [
       "(328, 1)"
      ]
     },
     "execution_count": 43,
     "metadata": {},
     "output_type": "execute_result"
    }
   ],
   "source": [
    "X_train_text_only.shape"
   ]
  },
  {
   "cell_type": "code",
   "execution_count": 44,
   "metadata": {},
   "outputs": [
    {
     "data": {
      "text/plain": [
       "(328, 1)"
      ]
     },
     "execution_count": 44,
     "metadata": {},
     "output_type": "execute_result"
    }
   ],
   "source": [
    "X_train_text_only.shape"
   ]
  },
  {
   "cell_type": "code",
   "execution_count": 45,
   "metadata": {},
   "outputs": [
    {
     "data": {
      "text/html": [
       "<div>\n",
       "<style scoped>\n",
       "    .dataframe tbody tr th:only-of-type {\n",
       "        vertical-align: middle;\n",
       "    }\n",
       "\n",
       "    .dataframe tbody tr th {\n",
       "        vertical-align: top;\n",
       "    }\n",
       "\n",
       "    .dataframe thead th {\n",
       "        text-align: right;\n",
       "    }\n",
       "</style>\n",
       "<table border=\"1\" class=\"dataframe\">\n",
       "  <thead>\n",
       "    <tr style=\"text-align: right;\">\n",
       "      <th></th>\n",
       "      <th>tweet_text_only</th>\n",
       "    </tr>\n",
       "  </thead>\n",
       "  <tbody>\n",
       "    <tr>\n",
       "      <th>298</th>\n",
       "      <td>tell us why you love us in 6 words or less we want to be flattered</td>\n",
       "    </tr>\n",
       "    <tr>\n",
       "      <th>296</th>\n",
       "      <td>we had to write our own skate-umm song so we didn’t get sued by fleetwood mac lol</td>\n",
       "    </tr>\n",
       "    <tr>\n",
       "      <th>6</th>\n",
       "      <td>Where are Mickey &amp; friends this holiday season? In the x AE collection, of course! You might not believe your eyes…</td>\n",
       "    </tr>\n",
       "    <tr>\n",
       "      <th>151</th>\n",
       "      <td>a milk shake</td>\n",
       "    </tr>\n",
       "    <tr>\n",
       "      <th>250</th>\n",
       "      <td>best group chat ever</td>\n",
       "    </tr>\n",
       "  </tbody>\n",
       "</table>\n",
       "</div>"
      ],
      "text/plain": [
       "                                                                                                         tweet_text_only\n",
       "298                                                   tell us why you love us in 6 words or less we want to be flattered\n",
       "296                                    we had to write our own skate-umm song so we didn’t get sued by fleetwood mac lol\n",
       "6    Where are Mickey & friends this holiday season? In the x AE collection, of course! You might not believe your eyes…\n",
       "151                                                                                                         a milk shake\n",
       "250                                                                                                 best group chat ever"
      ]
     },
     "execution_count": 45,
     "metadata": {},
     "output_type": "execute_result"
    }
   ],
   "source": [
    "X_train_text_only.head()"
   ]
  },
  {
   "cell_type": "code",
   "execution_count": 46,
   "metadata": {},
   "outputs": [],
   "source": [
    "preprocessor_text_only = make_column_transformer(\n",
    "    (CountVectorizer(max_features=20000), text_feature),\n",
    ")"
   ]
  },
  {
   "cell_type": "code",
   "execution_count": 47,
   "metadata": {},
   "outputs": [],
   "source": [
    "pipe_rf_text = make_pipeline(preprocessor_text_only, RandomForestClassifier(random_state=2, class_weight=\"balanced\"))"
   ]
  },
  {
   "cell_type": "code",
   "execution_count": 48,
   "metadata": {},
   "outputs": [
    {
     "data": {
      "text/html": [
       "<div>\n",
       "<style scoped>\n",
       "    .dataframe tbody tr th:only-of-type {\n",
       "        vertical-align: middle;\n",
       "    }\n",
       "\n",
       "    .dataframe tbody tr th {\n",
       "        vertical-align: top;\n",
       "    }\n",
       "\n",
       "    .dataframe thead th {\n",
       "        text-align: right;\n",
       "    }\n",
       "</style>\n",
       "<table border=\"1\" class=\"dataframe\">\n",
       "  <thead>\n",
       "    <tr style=\"text-align: right;\">\n",
       "      <th></th>\n",
       "      <th>text_only random forest</th>\n",
       "    </tr>\n",
       "  </thead>\n",
       "  <tbody>\n",
       "    <tr>\n",
       "      <th>fit_time</th>\n",
       "      <td>0.157 (+/- 0.006)</td>\n",
       "    </tr>\n",
       "    <tr>\n",
       "      <th>score_time</th>\n",
       "      <td>0.011 (+/- 0.000)</td>\n",
       "    </tr>\n",
       "    <tr>\n",
       "      <th>test_score</th>\n",
       "      <td>0.738 (+/- 0.064)</td>\n",
       "    </tr>\n",
       "    <tr>\n",
       "      <th>train_score</th>\n",
       "      <td>0.994 (+/- 0.003)</td>\n",
       "    </tr>\n",
       "  </tbody>\n",
       "</table>\n",
       "</div>"
      ],
      "text/plain": [
       "            text_only random forest\n",
       "fit_time          0.157 (+/- 0.006)\n",
       "score_time        0.011 (+/- 0.000)\n",
       "test_score        0.738 (+/- 0.064)\n",
       "train_score       0.994 (+/- 0.003)"
      ]
     },
     "execution_count": 48,
     "metadata": {},
     "output_type": "execute_result"
    }
   ],
   "source": [
    "results = {}\n",
    "results[\"text_only random forest\"] = mean_std_cross_val_scores(\n",
    "    pipe_rf_text, X_train_text_only, y_train, return_train_score=True\n",
    ")\n",
    "pd.DataFrame(results)"
   ]
  },
  {
   "cell_type": "code",
   "execution_count": 49,
   "metadata": {},
   "outputs": [
    {
     "data": {
      "text/plain": [
       "<sklearn.metrics._plot.confusion_matrix.ConfusionMatrixDisplay at 0x7f7f0a886dc0>"
      ]
     },
     "execution_count": 49,
     "metadata": {},
     "output_type": "execute_result"
    },
    {
     "data": {
      "image/png": "[encoded data removed]",
      "text/plain": [
       "<Figure size 432x288 with 2 Axes>"
      ]
     },
     "metadata": {
      "needs_background": "light"
     },
     "output_type": "display_data"
    }
   ],
   "source": [
    "pipe_rf_text.fit(X_train_text_only, y_train)\n",
    "\n",
    "plot_confusion_matrix(\n",
    "    pipe_rf_text,\n",
    "    X_test_text_only,\n",
    "    y_test,\n",
    "    display_labels=[\"Not a meme\", \"Is a meme\"],\n",
    "    cmap=plt.cm.Blues,\n",
    "    normalize=\"all\",\n",
    ")"
   ]
  },
  {
   "cell_type": "code",
   "execution_count": 50,
   "metadata": {},
   "outputs": [
    {
     "name": "stdout",
     "output_type": "stream",
     "text": [
      "              precision    recall  f1-score   support\n",
      "\n",
      "       False       0.76      0.83      0.79        86\n",
      "        True       0.68      0.58      0.63        55\n",
      "\n",
      "    accuracy                           0.73       141\n",
      "   macro avg       0.72      0.70      0.71       141\n",
      "weighted avg       0.73      0.73      0.73       141\n",
      "\n"
     ]
    }
   ],
   "source": [
    "print(classification_report(y_test, pipe_rf_text.predict(X_test_text_only)))"
   ]
  }
 ],
 "metadata": {
  "kernelspec": {
   "display_name": "Python 3",
   "language": "python",
   "name": "python3"
  },
  "language_info": {
   "codemirror_mode": {
    "name": "ipython",
    "version": 3
   },
   "file_extension": ".py",
   "mimetype": "text/x-python",
   "name": "python",
   "nbconvert_exporter": "python",
   "pygments_lexer": "ipython3",
   "version": "3.8.3"
  }
 },
 "nbformat": 4,
 "nbformat_minor": 4
}
